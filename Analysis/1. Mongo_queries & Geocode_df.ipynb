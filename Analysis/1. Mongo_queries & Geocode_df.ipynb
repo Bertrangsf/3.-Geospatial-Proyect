{
 "cells": [
  {
   "cell_type": "code",
   "execution_count": 1,
   "id": "angry-report",
   "metadata": {},
   "outputs": [],
   "source": [
    "from pymongo import MongoClient\n",
    "import pandas as pd\n",
    "import requests\n",
    "import src.functions1 as f1"
   ]
  },
  {
   "cell_type": "code",
   "execution_count": 2,
   "id": "according-sphere",
   "metadata": {},
   "outputs": [],
   "source": [
    "# Activating and connecting to MongoDB database\n",
    "\n",
    "client = MongoClient(\"localhost:27017\")\n",
    "db = client.get_database('Crunchbase')\n",
    "c = db.get_collection('Crunchbase')"
   ]
  },
  {
   "cell_type": "code",
   "execution_count": 3,
   "id": "premier-hierarchy",
   "metadata": {},
   "outputs": [
    {
     "data": {
      "text/html": [
       "<div>\n",
       "<style scoped>\n",
       "    .dataframe tbody tr th:only-of-type {\n",
       "        vertical-align: middle;\n",
       "    }\n",
       "\n",
       "    .dataframe tbody tr th {\n",
       "        vertical-align: top;\n",
       "    }\n",
       "\n",
       "    .dataframe thead th {\n",
       "        text-align: right;\n",
       "    }\n",
       "</style>\n",
       "<table border=\"1\" class=\"dataframe\">\n",
       "  <thead>\n",
       "    <tr style=\"text-align: right;\">\n",
       "      <th></th>\n",
       "      <th>name</th>\n",
       "      <th>number_of_employees</th>\n",
       "      <th>offices</th>\n",
       "    </tr>\n",
       "  </thead>\n",
       "  <tbody>\n",
       "    <tr>\n",
       "      <th>0</th>\n",
       "      <td>Yola</td>\n",
       "      <td>70</td>\n",
       "      <td>[{'city': 'San Francisco', 'latitude': 37.7911...</td>\n",
       "    </tr>\n",
       "    <tr>\n",
       "      <th>1</th>\n",
       "      <td>Call Me Later</td>\n",
       "      <td>25</td>\n",
       "      <td>[{'city': 'Miami', 'latitude': 25.916982, 'lon...</td>\n",
       "    </tr>\n",
       "    <tr>\n",
       "      <th>3</th>\n",
       "      <td>Zankyou</td>\n",
       "      <td>15</td>\n",
       "      <td>[{'city': 'Madrid', 'latitude': 40.6070897, 'l...</td>\n",
       "    </tr>\n",
       "  </tbody>\n",
       "</table>\n",
       "</div>"
      ],
      "text/plain": [
       "            name  number_of_employees  \\\n",
       "0           Yola                   70   \n",
       "1  Call Me Later                   25   \n",
       "3        Zankyou                   15   \n",
       "\n",
       "                                             offices  \n",
       "0  [{'city': 'San Francisco', 'latitude': 37.7911...  \n",
       "1  [{'city': 'Miami', 'latitude': 25.916982, 'lon...  \n",
       "3  [{'city': 'Madrid', 'latitude': 40.6070897, 'l...  "
      ]
     },
     "execution_count": 3,
     "metadata": {},
     "output_type": "execute_result"
    }
   ],
   "source": [
    "# Comprobating the existence of web companies founded after 2004, with 10-100 employees, in the selected cities:\n",
    "\n",
    "proj = {\"_id\": 0, \"name\": 1, \"offices.city\":1, \"number_of_employees\": 1, \"offices.latitude\" : 1, \"offices.longitude\" : 1}\n",
    "\n",
    "condition1 = {\"category_code\": \"web\"}\n",
    "condition2 = {\"$or\": [{\"offices.city\": \"Madrid\"}, {\"offices.city\":\"Cape Town\"}, {\"offices.city\": \"Miami\"}]}\n",
    "condition3 = {\"number_of_employees\": {\"$lt\":100, \"$gt\":10}}\n",
    "condition4 = {\"founded_year\": {\"$gt\": 2005}}\n",
    "\n",
    "companies = list(c.find({\"$and\": [condition1,condition2,condition3,condition4]}, proj))\n",
    "df = pd.DataFrame(companies)\n",
    "df[\"offices\"] = df.offices.astype(str)\n",
    "df = df.drop_duplicates()\n",
    "df"
   ]
  },
  {
   "cell_type": "markdown",
   "id": "express-exposure",
   "metadata": {},
   "source": [
    "### Mongo Conclusion:\n",
    "\n",
    "##### From Madrid, Miami and Capetown (my three favorite cities of all those I have visited, because of their similarity with the Spanish culture), I have check the feasibility of moving my new company there. I look at the criteria of: \n",
    "\n",
    "- Young company (founded after 2005).\n",
    "- SME (less than fifty employees, and more than 10)\n",
    "- Companies in the \"web\" sector\n",
    "\n",
    "### 🚀All three options are viable‼ 🚀"
   ]
  },
  {
   "cell_type": "markdown",
   "id": "peripheral-payday",
   "metadata": {},
   "source": [
    "--------------------------------------------------------------------------------------"
   ]
  },
  {
   "cell_type": "code",
   "execution_count": 4,
   "id": "southwest-lawyer",
   "metadata": {},
   "outputs": [
    {
     "data": {
      "text/html": [
       "<div>\n",
       "<style scoped>\n",
       "    .dataframe tbody tr th:only-of-type {\n",
       "        vertical-align: middle;\n",
       "    }\n",
       "\n",
       "    .dataframe tbody tr th {\n",
       "        vertical-align: top;\n",
       "    }\n",
       "\n",
       "    .dataframe thead th {\n",
       "        text-align: right;\n",
       "    }\n",
       "</style>\n",
       "<table border=\"1\" class=\"dataframe\">\n",
       "  <thead>\n",
       "    <tr style=\"text-align: right;\">\n",
       "      <th></th>\n",
       "      <th>longt</th>\n",
       "      <th>latt</th>\n",
       "    </tr>\n",
       "    <tr>\n",
       "      <th>city</th>\n",
       "      <th></th>\n",
       "      <th></th>\n",
       "    </tr>\n",
       "  </thead>\n",
       "  <tbody>\n",
       "    <tr>\n",
       "      <th>Madrid</th>\n",
       "      <td>-3.67930</td>\n",
       "      <td>40.42955</td>\n",
       "    </tr>\n",
       "    <tr>\n",
       "      <th>Cape Town</th>\n",
       "      <td>18.46654</td>\n",
       "      <td>-33.99268</td>\n",
       "    </tr>\n",
       "    <tr>\n",
       "      <th>Miami</th>\n",
       "      <td>-80.28966</td>\n",
       "      <td>25.76849</td>\n",
       "    </tr>\n",
       "  </tbody>\n",
       "</table>\n",
       "</div>"
      ],
      "text/plain": [
       "               longt       latt\n",
       "city                           \n",
       "Madrid      -3.67930   40.42955\n",
       "Cape Town   18.46654  -33.99268\n",
       "Miami      -80.28966   25.76849"
      ]
     },
     "execution_count": 4,
     "metadata": {},
     "output_type": "execute_result"
    }
   ],
   "source": [
    "# Requesting the location to geocode API (https://geocode.xyz) and creating a df\n",
    "\n",
    "madrid = \"madrid\"\n",
    "cape_town = \"cape town\"\n",
    "miami = \"miami\"\n",
    "df_madrid = pd.DataFrame(requests.get(f\"https://geocode.xyz/{madrid}?json=1\").json())\n",
    "df_cape = pd.DataFrame(requests.get(f\"https://geocode.xyz/{cape_town}?json=1\").json())\n",
    "df_miami = pd.DataFrame(requests.get(f\"https://geocode.xyz/{miami}?json=1\").json())\n",
    "df_geocode = f1.df_final(df_madrid, df_cape, df_miami)\n",
    "df_geocode"
   ]
  },
  {
   "cell_type": "code",
   "execution_count": 5,
   "id": "indirect-mambo",
   "metadata": {},
   "outputs": [],
   "source": [
    "# Saving the df in the correct folder\n",
    "\n",
    "df_geocode.to_csv('../Maps_df/situation.csv')"
   ]
  }
 ],
 "metadata": {
  "kernelspec": {
   "display_name": "Python 3",
   "language": "python",
   "name": "python3"
  },
  "language_info": {
   "codemirror_mode": {
    "name": "ipython",
    "version": 3
   },
   "file_extension": ".py",
   "mimetype": "text/x-python",
   "name": "python",
   "nbconvert_exporter": "python",
   "pygments_lexer": "ipython3",
   "version": "3.8.5"
  }
 },
 "nbformat": 4,
 "nbformat_minor": 5
}
