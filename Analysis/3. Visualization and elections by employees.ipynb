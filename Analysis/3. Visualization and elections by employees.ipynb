{
 "cells": [
  {
   "cell_type": "code",
   "execution_count": 1,
   "id": "bacterial-indication",
   "metadata": {},
   "outputs": [],
   "source": [
    "from IPython.display import IFrame\n",
    "import src.function3 as f3"
   ]
  },
  {
   "cell_type": "markdown",
   "id": "waiting-scanning",
   "metadata": {},
   "source": [
    "### MADRID🚀"
   ]
  },
  {
   "cell_type": "code",
   "execution_count": 2,
   "id": "mysterious-necessity",
   "metadata": {
    "collapsed": true
   },
   "outputs": [
    {
     "data": {
      "text/html": [
       "\n",
       "        <iframe\n",
       "            width=\"1000\"\n",
       "            height=\"800\"\n",
       "            src=\"../Maps_df/Madrid.html\"\n",
       "            frameborder=\"0\"\n",
       "            allowfullscreen\n",
       "        ></iframe>\n",
       "        "
      ],
      "text/plain": [
       "<IPython.lib.display.IFrame at 0x7fcb3ca8f6a0>"
      ]
     },
     "execution_count": 2,
     "metadata": {},
     "output_type": "execute_result"
    }
   ],
   "source": [
    "IFrame(src='../Maps_df/Madrid.html', width=1000, height=800)"
   ]
  },
  {
   "cell_type": "markdown",
   "id": "approved-paragraph",
   "metadata": {},
   "source": [
    "### MIAMI⛵"
   ]
  },
  {
   "cell_type": "code",
   "execution_count": 3,
   "id": "tracked-opportunity",
   "metadata": {
    "collapsed": true
   },
   "outputs": [
    {
     "data": {
      "text/html": [
       "\n",
       "        <iframe\n",
       "            width=\"1000\"\n",
       "            height=\"800\"\n",
       "            src=\"../Maps_df/Miami.html\"\n",
       "            frameborder=\"0\"\n",
       "            allowfullscreen\n",
       "        ></iframe>\n",
       "        "
      ],
      "text/plain": [
       "<IPython.lib.display.IFrame at 0x7fcb3ca83af0>"
      ]
     },
     "execution_count": 3,
     "metadata": {},
     "output_type": "execute_result"
    }
   ],
   "source": [
    "IFrame(src='../Maps_df/Miami.html', width=1000, height=800)"
   ]
  },
  {
   "cell_type": "markdown",
   "id": "searching-bulgarian",
   "metadata": {},
   "source": [
    "### CAPE TOWN🏝"
   ]
  },
  {
   "cell_type": "code",
   "execution_count": 4,
   "id": "systematic-spouse",
   "metadata": {
    "collapsed": true
   },
   "outputs": [
    {
     "data": {
      "text/html": [
       "\n",
       "        <iframe\n",
       "            width=\"900\"\n",
       "            height=\"800\"\n",
       "            src=\"../Maps_df/Cape_Town.html\"\n",
       "            frameborder=\"0\"\n",
       "            allowfullscreen\n",
       "        ></iframe>\n",
       "        "
      ],
      "text/plain": [
       "<IPython.lib.display.IFrame at 0x7fcb3ca8ff70>"
      ]
     },
     "execution_count": 4,
     "metadata": {},
     "output_type": "execute_result"
    }
   ],
   "source": [
    "IFrame(src='../Maps_df/Cape_Town.html', width=900, height=800)"
   ]
  },
  {
   "cell_type": "markdown",
   "id": "caroline-toyota",
   "metadata": {},
   "source": [
    "### YOUR TIME TO CHOOSE❗"
   ]
  },
  {
   "cell_type": "code",
   "execution_count": 5,
   "id": "assigned-laugh",
   "metadata": {},
   "outputs": [
    {
     "name": "stdout",
     "output_type": "stream",
     "text": [
      "What is your role 'Designer', 'Developer', 'Engineer', 'Account Manager', 'Maintenance', 'Executive'?: Developer\n",
      "What would be your favourite city (Madrid, Miami or Cape Town?: madrid\n",
      "What is your role 'Designer', 'Developer', 'Engineer', 'Account Manager', 'Maintenance', 'Executive'?: engineer\n",
      "What would be your favourite city (Madrid, Miami or Cape Town?: miami\n",
      "What is your role 'Designer', 'Developer', 'Engineer', 'Account Manager', 'Maintenance', 'Executive'?: Account manager\n",
      "What would be your favourite city (Madrid, Miami or Cape Town?: cape toWn\n",
      "What is your role 'Designer', 'Developer', 'Engineer', 'Account Manager', 'Maintenance', 'Executive'?: Maintenance\n",
      "What would be your favourite city (Madrid, Miami or Cape Town?: madrid\n",
      "What is your role 'Designer', 'Developer', 'Engineer', 'Account Manager', 'Maintenance', 'Executive'?: Executive\n",
      "What would be your favourite city (Madrid, Miami or Cape Town?: miami\n",
      "What is your role 'Designer', 'Developer', 'Engineer', 'Account Manager', 'Maintenance', 'Executive'?: Executive\n",
      "What would be your favourite city (Madrid, Miami or Cape Town?: madrid\n",
      "What is your role 'Designer', 'Developer', 'Engineer', 'Account Manager', 'Maintenance', 'Executive'?: Executive\n",
      "What would be your favourite city (Madrid, Miami or Cape Town?: madrid\n",
      "What is your role 'Designer', 'Developer', 'Engineer', 'Account Manager', 'Maintenance', 'Executive'?: Executive\n",
      "What would be your favourite city (Madrid, Miami or Cape Town?: madrid\n",
      "What is your role 'Designer', 'Developer', 'Engineer', 'Account Manager', 'Maintenance', 'Executive'?: Executive\n",
      "What would be your favourite city (Madrid, Miami or Cape Town?: madrid\n",
      "What is your role 'Designer', 'Developer', 'Engineer', 'Account Manager', 'Maintenance', 'Executive'?: Executive\n",
      "What would be your favourite city (Madrid, Miami or Cape Town?: madrid\n",
      "What is your role 'Designer', 'Developer', 'Engineer', 'Account Manager', 'Maintenance', 'Executive'?: Executive\n",
      "What would be your favourite city (Madrid, Miami or Cape Town?: madrid\n",
      "What is your role 'Designer', 'Developer', 'Engineer', 'Account Manager', 'Maintenance', 'Executive'?: Executive\n",
      "What would be your favourite city (Madrid, Miami or Cape Town?: madrid\n",
      "What is your role 'Designer', 'Developer', 'Engineer', 'Account Manager', 'Maintenance', 'Executive'?: Executive\n",
      "What would be your favourite city (Madrid, Miami or Cape Town?: madrid\n",
      "What is your role 'Designer', 'Developer', 'Engineer', 'Account Manager', 'Maintenance', 'Executive'?: Executive\n",
      "What would be your favourite city (Madrid, Miami or Cape Town?: madrid\n",
      "What is your role 'Designer', 'Developer', 'Engineer', 'Account Manager', 'Maintenance', 'Executive'?: Executive\n",
      "What would be your favourite city (Madrid, Miami or Cape Town?: madrid\n",
      "What is your role 'Designer', 'Developer', 'Engineer', 'Account Manager', 'Maintenance', 'Executive'?: Executive\n",
      "What would be your favourite city (Madrid, Miami or Cape Town?: madrid\n",
      "What is your role 'Designer', 'Developer', 'Engineer', 'Account Manager', 'Maintenance', 'Executive'?: Executive\n",
      "What would be your favourite city (Madrid, Miami or Cape Town?: madrid\n",
      "What is your role 'Designer', 'Developer', 'Engineer', 'Account Manager', 'Maintenance', 'Executive'?: Executive\n",
      "What would be your favourite city (Madrid, Miami or Cape Town?: madrid\n",
      "What is your role 'Designer', 'Developer', 'Engineer', 'Account Manager', 'Maintenance', 'Executive'?: Executive\n",
      "What would be your favourite city (Madrid, Miami or Cape Town?: madrid\n",
      "What is your role 'Designer', 'Developer', 'Engineer', 'Account Manager', 'Maintenance', 'Executive'?: Executive\n",
      "What would be your favourite city (Madrid, Miami or Cape Town?: madrid\n",
      "What is your role 'Designer', 'Developer', 'Engineer', 'Account Manager', 'Maintenance', 'Executive'?: Executive\n",
      "What would be your favourite city (Madrid, Miami or Cape Town?: madrid\n",
      "What is your role 'Designer', 'Developer', 'Engineer', 'Account Manager', 'Maintenance', 'Executive'?: Executive\n",
      "What would be your favourite city (Madrid, Miami or Cape Town?: madrid\n",
      "What is your role 'Designer', 'Developer', 'Engineer', 'Account Manager', 'Maintenance', 'Executive'?: Executive\n",
      "What would be your favourite city (Madrid, Miami or Cape Town?: madrid\n",
      "What is your role 'Designer', 'Developer', 'Engineer', 'Account Manager', 'Maintenance', 'Executive'?: Executive\n",
      "What would be your favourite city (Madrid, Miami or Cape Town?: madrid\n",
      "What is your role 'Designer', 'Developer', 'Engineer', 'Account Manager', 'Maintenance', 'Executive'?: Executive\n",
      "What would be your favourite city (Madrid, Miami or Cape Town?: madrid\n",
      "What is your role 'Designer', 'Developer', 'Engineer', 'Account Manager', 'Maintenance', 'Executive'?: Executive\n",
      "What would be your favourite city (Madrid, Miami or Cape Town?: madrid\n",
      "What is your role 'Designer', 'Developer', 'Engineer', 'Account Manager', 'Maintenance', 'Executive'?: Executive\n",
      "What would be your favourite city (Madrid, Miami or Cape Town?: madrid\n",
      "What is your role 'Designer', 'Developer', 'Engineer', 'Account Manager', 'Maintenance', 'Executive'?: Executive\n",
      "What would be your favourite city (Madrid, Miami or Cape Town?: madrid\n",
      "What is your role 'Designer', 'Developer', 'Engineer', 'Account Manager', 'Maintenance', 'Executive'?: Executive\n",
      "What would be your favourite city (Madrid, Miami or Cape Town?: madrid\n",
      "What is your role 'Designer', 'Developer', 'Engineer', 'Account Manager', 'Maintenance', 'Executive'?: Executive\n",
      "What would be your favourite city (Madrid, Miami or Cape Town?: madrid\n",
      "What is your role 'Designer', 'Developer', 'Engineer', 'Account Manager', 'Maintenance', 'Executive'?: Executive\n",
      "What would be your favourite city (Madrid, Miami or Cape Town?: madrid\n",
      "What is your role 'Designer', 'Developer', 'Engineer', 'Account Manager', 'Maintenance', 'Executive'?: Executive\n",
      "What would be your favourite city (Madrid, Miami or Cape Town?: madrid\n"
     ]
    },
    {
     "data": {
      "text/plain": [
       "'We are moving to Madrid🚀'"
      ]
     },
     "execution_count": 5,
     "metadata": {},
     "output_type": "execute_result"
    }
   ],
   "source": [
    "f3.The_Final_City()   # 🚀IT WORKS🚀"
   ]
  }
 ],
 "metadata": {
  "kernelspec": {
   "display_name": "Python 3",
   "language": "python",
   "name": "python3"
  },
  "language_info": {
   "codemirror_mode": {
    "name": "ipython",
    "version": 3
   },
   "file_extension": ".py",
   "mimetype": "text/x-python",
   "name": "python",
   "nbconvert_exporter": "python",
   "pygments_lexer": "ipython3",
   "version": "3.8.5"
  }
 },
 "nbformat": 4,
 "nbformat_minor": 5
}
