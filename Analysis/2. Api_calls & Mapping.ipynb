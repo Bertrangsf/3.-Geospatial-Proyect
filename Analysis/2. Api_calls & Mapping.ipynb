{
 "cells": [
  {
   "cell_type": "code",
   "execution_count": 1,
   "id": "complicated-administration",
   "metadata": {},
   "outputs": [],
   "source": [
    "import pandas as pd\n",
    "import src.functions2 as f2"
   ]
  },
  {
   "cell_type": "code",
   "execution_count": 2,
   "id": "hispanic-antibody",
   "metadata": {},
   "outputs": [],
   "source": [
    "# Importing the coordinates obtained for each city:\n",
    "\n",
    "df = pd.read_csv(r\"../Maps_df/situation.csv\")"
   ]
  },
  {
   "cell_type": "code",
   "execution_count": 3,
   "id": "nasty-vision",
   "metadata": {},
   "outputs": [],
   "source": [
    "# API requesting the under the parametres ([.src.functionsdata.data]):\n",
    "\n",
    "madrid = f2.data(df.latt[0], df.longt[0])\n",
    "cape = f2.data(df.latt[1], df.longt[1])\n",
    "miami = f2.data(df.latt[2], df.longt[2])"
   ]
  },
  {
   "cell_type": "code",
   "execution_count": 4,
   "id": "exclusive-amber",
   "metadata": {},
   "outputs": [],
   "source": [
    "# Df cleaning ([.src.functionsdata.clean]):\n",
    "\n",
    "madrid = f2.clean(madrid)\n",
    "cape = f2.clean(cape)\n",
    "miami = f2.clean(miami)"
   ]
  },
  {
   "cell_type": "code",
   "execution_count": 5,
   "id": "efficient-telescope",
   "metadata": {},
   "outputs": [],
   "source": [
    "# Converting dictionary to df ([.src.functionsdata.to_df]):\n",
    "\n",
    "madrid = f2.to_df(*madrid)\n",
    "cape = f2.to_df(*cape)\n",
    "miami = f2.to_df(*miami)"
   ]
  },
  {
   "cell_type": "code",
   "execution_count": 6,
   "id": "turkish-there",
   "metadata": {},
   "outputs": [],
   "source": [
    "# Maping with markers ([.src.functionsdata.mapping]):\n",
    "\n",
    "map_madrid = f2.mapping(madrid, df.latt[0], df.longt[0])\n",
    "map_capetown = f2.mapping(cape, df.latt[1], df.longt[1])\n",
    "map_miami = f2.mapping(miami, df.latt[2], df.longt[2])"
   ]
  },
  {
   "cell_type": "code",
   "execution_count": 7,
   "id": "written-interpretation",
   "metadata": {},
   "outputs": [],
   "source": [
    "# Saving the maps:\n",
    "\n",
    "map_madrid.save('../Maps_df/Madrid.html')\n",
    "map_capetown.save('../Maps_df/Cape_Town.html')\n",
    "map_miami.save('../Maps_df/Miami.html')"
   ]
  }
 ],
 "metadata": {
  "kernelspec": {
   "display_name": "Python 3",
   "language": "python",
   "name": "python3"
  },
  "language_info": {
   "codemirror_mode": {
    "name": "ipython",
    "version": 3
   },
   "file_extension": ".py",
   "mimetype": "text/x-python",
   "name": "python",
   "nbconvert_exporter": "python",
   "pygments_lexer": "ipython3",
   "version": "3.8.5"
  }
 },
 "nbformat": 4,
 "nbformat_minor": 5
}
